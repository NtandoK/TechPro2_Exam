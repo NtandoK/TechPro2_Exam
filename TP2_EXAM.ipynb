{
 "cells": [
  {
   "cell_type": "code",
   "execution_count": 1,
   "id": "b8d89bf2-dfbc-4b56-a450-dcfb512df6f2",
   "metadata": {},
   "outputs": [],
   "source": [
    "import pandas as pd"
   ]
  },
  {
   "cell_type": "code",
   "execution_count": 2,
   "id": "cc6adc50-d3e2-4069-81ea-813529900b8e",
   "metadata": {},
   "outputs": [],
   "source": [
    "data=pd.read_csv('employeeData.csv')"
   ]
  },
  {
   "cell_type": "code",
   "execution_count": 3,
   "id": "84d2237a-cd81-4229-82e6-d5e0db3fb8a5",
   "metadata": {},
   "outputs": [
    {
     "data": {
      "text/html": [
       "<div>\n",
       "<style scoped>\n",
       "    .dataframe tbody tr th:only-of-type {\n",
       "        vertical-align: middle;\n",
       "    }\n",
       "\n",
       "    .dataframe tbody tr th {\n",
       "        vertical-align: top;\n",
       "    }\n",
       "\n",
       "    .dataframe thead th {\n",
       "        text-align: right;\n",
       "    }\n",
       "</style>\n",
       "<table border=\"1\" class=\"dataframe\">\n",
       "  <thead>\n",
       "    <tr style=\"text-align: right;\">\n",
       "      <th></th>\n",
       "      <th>Age</th>\n",
       "      <th>Attrition</th>\n",
       "      <th>BusinessTravel</th>\n",
       "      <th>DailyRate</th>\n",
       "      <th>Department</th>\n",
       "      <th>DistanceFromHome</th>\n",
       "      <th>Education</th>\n",
       "      <th>EducationField</th>\n",
       "      <th>EmployeeCount</th>\n",
       "      <th>EmployeeNumber</th>\n",
       "      <th>...</th>\n",
       "      <th>RelationshipSatisfaction</th>\n",
       "      <th>StandardHours</th>\n",
       "      <th>StockOptionLevel</th>\n",
       "      <th>TotalWorkingYears</th>\n",
       "      <th>TrainingTimesLastYear</th>\n",
       "      <th>WorkLifeBalance</th>\n",
       "      <th>YearsAtCompany</th>\n",
       "      <th>YearsInCurrentRole</th>\n",
       "      <th>YearsSinceLastPromotion</th>\n",
       "      <th>YearsWithCurrManager</th>\n",
       "    </tr>\n",
       "  </thead>\n",
       "  <tbody>\n",
       "    <tr>\n",
       "      <th>0</th>\n",
       "      <td>41</td>\n",
       "      <td>Yes</td>\n",
       "      <td>Travel_Rarely</td>\n",
       "      <td>1102</td>\n",
       "      <td>Sales</td>\n",
       "      <td>1</td>\n",
       "      <td>2</td>\n",
       "      <td>Life Sciences</td>\n",
       "      <td>1</td>\n",
       "      <td>1</td>\n",
       "      <td>...</td>\n",
       "      <td>1</td>\n",
       "      <td>80</td>\n",
       "      <td>0</td>\n",
       "      <td>8</td>\n",
       "      <td>0</td>\n",
       "      <td>1</td>\n",
       "      <td>6</td>\n",
       "      <td>4</td>\n",
       "      <td>0</td>\n",
       "      <td>5</td>\n",
       "    </tr>\n",
       "    <tr>\n",
       "      <th>1</th>\n",
       "      <td>49</td>\n",
       "      <td>No</td>\n",
       "      <td>Travel_Frequently</td>\n",
       "      <td>279</td>\n",
       "      <td>Research &amp; Development</td>\n",
       "      <td>8</td>\n",
       "      <td>1</td>\n",
       "      <td>Life Sciences</td>\n",
       "      <td>1</td>\n",
       "      <td>2</td>\n",
       "      <td>...</td>\n",
       "      <td>4</td>\n",
       "      <td>80</td>\n",
       "      <td>1</td>\n",
       "      <td>10</td>\n",
       "      <td>3</td>\n",
       "      <td>3</td>\n",
       "      <td>10</td>\n",
       "      <td>7</td>\n",
       "      <td>1</td>\n",
       "      <td>7</td>\n",
       "    </tr>\n",
       "    <tr>\n",
       "      <th>2</th>\n",
       "      <td>37</td>\n",
       "      <td>Yes</td>\n",
       "      <td>Travel_Rarely</td>\n",
       "      <td>1373</td>\n",
       "      <td>Research &amp; Development</td>\n",
       "      <td>2</td>\n",
       "      <td>2</td>\n",
       "      <td>Other</td>\n",
       "      <td>1</td>\n",
       "      <td>4</td>\n",
       "      <td>...</td>\n",
       "      <td>2</td>\n",
       "      <td>80</td>\n",
       "      <td>0</td>\n",
       "      <td>7</td>\n",
       "      <td>3</td>\n",
       "      <td>3</td>\n",
       "      <td>0</td>\n",
       "      <td>0</td>\n",
       "      <td>0</td>\n",
       "      <td>0</td>\n",
       "    </tr>\n",
       "    <tr>\n",
       "      <th>3</th>\n",
       "      <td>33</td>\n",
       "      <td>No</td>\n",
       "      <td>Travel_Frequently</td>\n",
       "      <td>1392</td>\n",
       "      <td>Research &amp; Development</td>\n",
       "      <td>3</td>\n",
       "      <td>4</td>\n",
       "      <td>Life Sciences</td>\n",
       "      <td>1</td>\n",
       "      <td>5</td>\n",
       "      <td>...</td>\n",
       "      <td>3</td>\n",
       "      <td>80</td>\n",
       "      <td>0</td>\n",
       "      <td>8</td>\n",
       "      <td>3</td>\n",
       "      <td>3</td>\n",
       "      <td>8</td>\n",
       "      <td>7</td>\n",
       "      <td>3</td>\n",
       "      <td>0</td>\n",
       "    </tr>\n",
       "    <tr>\n",
       "      <th>4</th>\n",
       "      <td>27</td>\n",
       "      <td>No</td>\n",
       "      <td>Travel_Rarely</td>\n",
       "      <td>591</td>\n",
       "      <td>Research &amp; Development</td>\n",
       "      <td>2</td>\n",
       "      <td>1</td>\n",
       "      <td>Medical</td>\n",
       "      <td>1</td>\n",
       "      <td>7</td>\n",
       "      <td>...</td>\n",
       "      <td>4</td>\n",
       "      <td>80</td>\n",
       "      <td>1</td>\n",
       "      <td>6</td>\n",
       "      <td>3</td>\n",
       "      <td>3</td>\n",
       "      <td>2</td>\n",
       "      <td>2</td>\n",
       "      <td>2</td>\n",
       "      <td>2</td>\n",
       "    </tr>\n",
       "  </tbody>\n",
       "</table>\n",
       "<p>5 rows × 35 columns</p>\n",
       "</div>"
      ],
      "text/plain": [
       "   Age Attrition     BusinessTravel  DailyRate              Department  \\\n",
       "0   41       Yes      Travel_Rarely       1102                   Sales   \n",
       "1   49        No  Travel_Frequently        279  Research & Development   \n",
       "2   37       Yes      Travel_Rarely       1373  Research & Development   \n",
       "3   33        No  Travel_Frequently       1392  Research & Development   \n",
       "4   27        No      Travel_Rarely        591  Research & Development   \n",
       "\n",
       "   DistanceFromHome  Education EducationField  EmployeeCount  EmployeeNumber  \\\n",
       "0                 1          2  Life Sciences              1               1   \n",
       "1                 8          1  Life Sciences              1               2   \n",
       "2                 2          2          Other              1               4   \n",
       "3                 3          4  Life Sciences              1               5   \n",
       "4                 2          1        Medical              1               7   \n",
       "\n",
       "   ...  RelationshipSatisfaction StandardHours  StockOptionLevel  \\\n",
       "0  ...                         1            80                 0   \n",
       "1  ...                         4            80                 1   \n",
       "2  ...                         2            80                 0   \n",
       "3  ...                         3            80                 0   \n",
       "4  ...                         4            80                 1   \n",
       "\n",
       "   TotalWorkingYears  TrainingTimesLastYear WorkLifeBalance  YearsAtCompany  \\\n",
       "0                  8                      0               1               6   \n",
       "1                 10                      3               3              10   \n",
       "2                  7                      3               3               0   \n",
       "3                  8                      3               3               8   \n",
       "4                  6                      3               3               2   \n",
       "\n",
       "  YearsInCurrentRole  YearsSinceLastPromotion  YearsWithCurrManager  \n",
       "0                  4                        0                     5  \n",
       "1                  7                        1                     7  \n",
       "2                  0                        0                     0  \n",
       "3                  7                        3                     0  \n",
       "4                  2                        2                     2  \n",
       "\n",
       "[5 rows x 35 columns]"
      ]
     },
     "execution_count": 3,
     "metadata": {},
     "output_type": "execute_result"
    }
   ],
   "source": [
    "data.head()"
   ]
  },
  {
   "cell_type": "code",
   "execution_count": 4,
   "id": "c8b853aa-8840-44e2-9756-0a962e8d6165",
   "metadata": {},
   "outputs": [
    {
     "data": {
      "text/plain": [
       "Index(['Age', 'Attrition', 'BusinessTravel', 'DailyRate', 'Department',\n",
       "       'DistanceFromHome', 'Education', 'EducationField', 'EmployeeCount',\n",
       "       'EmployeeNumber', 'EnvironmentSatisfaction', 'Gender', 'HourlyRate',\n",
       "       'JobInvolvement', 'JobLevel', 'JobRole', 'JobSatisfaction',\n",
       "       'MaritalStatus', 'MonthlyIncome', 'MonthlyRate', 'NumCompaniesWorked',\n",
       "       'Over18', 'OverTime', 'PercentSalaryHike', 'PerformanceRating',\n",
       "       'RelationshipSatisfaction', 'StandardHours', 'StockOptionLevel',\n",
       "       'TotalWorkingYears', 'TrainingTimesLastYear', 'WorkLifeBalance',\n",
       "       'YearsAtCompany', 'YearsInCurrentRole', 'YearsSinceLastPromotion',\n",
       "       'YearsWithCurrManager'],\n",
       "      dtype='object')"
      ]
     },
     "execution_count": 4,
     "metadata": {},
     "output_type": "execute_result"
    }
   ],
   "source": [
    "data.columns"
   ]
  },
  {
   "cell_type": "code",
   "execution_count": 5,
   "id": "3c7fcf14-2197-49fe-8631-3ec0a1b09267",
   "metadata": {},
   "outputs": [
    {
     "name": "stdout",
     "output_type": "stream",
     "text": [
      "Age                         0\n",
      "Attrition                   0\n",
      "BusinessTravel              0\n",
      "DailyRate                   0\n",
      "Department                  0\n",
      "DistanceFromHome            0\n",
      "Education                   0\n",
      "EducationField              0\n",
      "EmployeeCount               0\n",
      "EmployeeNumber              0\n",
      "EnvironmentSatisfaction     0\n",
      "Gender                      0\n",
      "HourlyRate                  0\n",
      "JobInvolvement              0\n",
      "JobLevel                    0\n",
      "JobRole                     0\n",
      "JobSatisfaction             0\n",
      "MaritalStatus               0\n",
      "MonthlyIncome               0\n",
      "MonthlyRate                 0\n",
      "NumCompaniesWorked          0\n",
      "Over18                      0\n",
      "OverTime                    0\n",
      "PercentSalaryHike           0\n",
      "PerformanceRating           0\n",
      "RelationshipSatisfaction    0\n",
      "StandardHours               0\n",
      "StockOptionLevel            0\n",
      "TotalWorkingYears           0\n",
      "TrainingTimesLastYear       0\n",
      "WorkLifeBalance             0\n",
      "YearsAtCompany              0\n",
      "YearsInCurrentRole          0\n",
      "YearsSinceLastPromotion     0\n",
      "YearsWithCurrManager        0\n",
      "dtype: int64\n"
     ]
    }
   ],
   "source": [
    "missing=data.isnull().sum()\n",
    "print(missing)"
   ]
  },
  {
   "cell_type": "code",
   "execution_count": 6,
   "id": "a7c73c93-df48-4a11-8eec-1d1f11dc6079",
   "metadata": {},
   "outputs": [
    {
     "name": "stdout",
     "output_type": "stream",
     "text": [
      "data shape is  (1470, 35)\n",
      "data size is  51450\n"
     ]
    },
    {
     "data": {
      "text/plain": [
       "Age                          int64\n",
       "Attrition                   object\n",
       "BusinessTravel              object\n",
       "DailyRate                    int64\n",
       "Department                  object\n",
       "DistanceFromHome             int64\n",
       "Education                    int64\n",
       "EducationField              object\n",
       "EmployeeCount                int64\n",
       "EmployeeNumber               int64\n",
       "EnvironmentSatisfaction      int64\n",
       "Gender                      object\n",
       "HourlyRate                   int64\n",
       "JobInvolvement               int64\n",
       "JobLevel                     int64\n",
       "JobRole                     object\n",
       "JobSatisfaction              int64\n",
       "MaritalStatus               object\n",
       "MonthlyIncome                int64\n",
       "MonthlyRate                  int64\n",
       "NumCompaniesWorked           int64\n",
       "Over18                      object\n",
       "OverTime                    object\n",
       "PercentSalaryHike            int64\n",
       "PerformanceRating            int64\n",
       "RelationshipSatisfaction     int64\n",
       "StandardHours                int64\n",
       "StockOptionLevel             int64\n",
       "TotalWorkingYears            int64\n",
       "TrainingTimesLastYear        int64\n",
       "WorkLifeBalance              int64\n",
       "YearsAtCompany               int64\n",
       "YearsInCurrentRole           int64\n",
       "YearsSinceLastPromotion      int64\n",
       "YearsWithCurrManager         int64\n",
       "dtype: object"
      ]
     },
     "execution_count": 6,
     "metadata": {},
     "output_type": "execute_result"
    }
   ],
   "source": [
    "dataShape=data.shape\n",
    "dataSize=data.size\n",
    "print(\"data shape is \",dataShape)\n",
    "print(\"data size is \",dataSize)\n",
    "data.dtypes"
   ]
  },
  {
   "cell_type": "code",
   "execution_count": 9,
   "id": "4e2f5f94-b599-42fc-97ec-86d051322cfa",
   "metadata": {},
   "outputs": [],
   "source": [
    "X = data[['Age', 'MonthlyIncome']]  \n",
    "y = data['PerformanceRating']"
   ]
  },
  {
   "cell_type": "markdown",
   "id": "5e4191c2-5a39-46f0-9a9c-5f6065015f69",
   "metadata": {},
   "source": [
    "LOGISTIC REGRESSION"
   ]
  },
  {
   "cell_type": "code",
   "execution_count": 11,
   "id": "3f640297-0112-4bf6-9ae3-014fb44baae9",
   "metadata": {},
   "outputs": [],
   "source": [
    "from sklearn.linear_model import LogisticRegression\n",
    "from sklearn.model_selection import train_test_split\n",
    "from sklearn.metrics import accuracy_score, confusion_matrix, classification_report"
   ]
  },
  {
   "cell_type": "code",
   "execution_count": 12,
   "id": "66479fd2-cd85-4cd2-bd0b-a526120ceed9",
   "metadata": {},
   "outputs": [
    {
     "name": "stdout",
     "output_type": "stream",
     "text": [
      "0.8537414965986394\n",
      "              precision    recall  f1-score   support\n",
      "\n",
      "           3       0.85      1.00      0.92       251\n",
      "           4       0.00      0.00      0.00        43\n",
      "\n",
      "    accuracy                           0.85       294\n",
      "   macro avg       0.43      0.50      0.46       294\n",
      "weighted avg       0.73      0.85      0.79       294\n",
      "\n"
     ]
    },
    {
     "name": "stderr",
     "output_type": "stream",
     "text": [
      "C:\\Users\\Ntando\\anaconda3\\Lib\\site-packages\\sklearn\\metrics\\_classification.py:1509: UndefinedMetricWarning: Precision is ill-defined and being set to 0.0 in labels with no predicted samples. Use `zero_division` parameter to control this behavior.\n",
      "  _warn_prf(average, modifier, f\"{metric.capitalize()} is\", len(result))\n",
      "C:\\Users\\Ntando\\anaconda3\\Lib\\site-packages\\sklearn\\metrics\\_classification.py:1509: UndefinedMetricWarning: Precision is ill-defined and being set to 0.0 in labels with no predicted samples. Use `zero_division` parameter to control this behavior.\n",
      "  _warn_prf(average, modifier, f\"{metric.capitalize()} is\", len(result))\n",
      "C:\\Users\\Ntando\\anaconda3\\Lib\\site-packages\\sklearn\\metrics\\_classification.py:1509: UndefinedMetricWarning: Precision is ill-defined and being set to 0.0 in labels with no predicted samples. Use `zero_division` parameter to control this behavior.\n",
      "  _warn_prf(average, modifier, f\"{metric.capitalize()} is\", len(result))\n"
     ]
    }
   ],
   "source": [
    "X_train, X_test, y_train, y_test = train_test_split(X, y, test_size=0.2, random_state=42)\n",
    "log_reg = LogisticRegression()\n",
    "log_reg.fit(X_train, y_train)\n",
    "y_pred = log_reg.predict(X_test)\n",
    "print(accuracy_score(y_test, y_pred))\n",
    "print(classification_report(y_test, y_pred))"
   ]
  },
  {
   "cell_type": "markdown",
   "id": "6ee2092d-bf21-45ae-8907-cef298a40bc2",
   "metadata": {},
   "source": [
    "The model's accuracy is 0.85 (85%), meaning it predicted whether the employee would withdraw funds in 85% of the cases."
   ]
  },
  {
   "cell_type": "markdown",
   "id": "06b6a802-0d67-4310-b0e8-d6b83bcb23ae",
   "metadata": {},
   "source": [
    "FORECASTING"
   ]
  },
  {
   "cell_type": "code",
   "execution_count": 21,
   "id": "e8aff8aa-b31e-4206-bc8c-05ae8e4a0a1b",
   "metadata": {},
   "outputs": [
    {
     "name": "stderr",
     "output_type": "stream",
     "text": [
      "C:\\Users\\Ntando\\AppData\\Local\\Temp\\ipykernel_13132\\1623963917.py:1: DtypeWarning: Columns (0,8) have mixed types. Specify dtype option on import or set low_memory=False.\n",
      "  data2=pd.read_csv('payroll.csv')\n"
     ]
    },
    {
     "data": {
      "text/plain": [
       "(685461, 18)"
      ]
     },
     "execution_count": 21,
     "metadata": {},
     "output_type": "execute_result"
    }
   ],
   "source": [
    "data2=pd.read_csv('payroll.csv')\n",
    "data2.shape"
   ]
  },
  {
   "cell_type": "code",
   "execution_count": 22,
   "id": "5592f0e1-014a-4a7b-b713-18623e9f01a9",
   "metadata": {},
   "outputs": [
    {
     "data": {
      "text/plain": [
       "Index(['RECORD_NBR', 'PAY_YEAR', 'DEPARTMENT_NO', 'DEPARTMENT_TITLE',\n",
       "       'JOB_CLASS_PGRADE', 'JOB_TITLE', 'EMPLOYMENT_TYPE', 'JOB_STATUS', 'MOU',\n",
       "       'MOU_TITLE', 'REGULAR_PAY', 'OVERTIME_PAY', 'ALL_OTHER_PAY',\n",
       "       'TOTAL_PAY', 'CITY_RETIREMENT_CONTRIBUTIONS', 'BENEFIT_PAY', 'GENDER',\n",
       "       'ETHNICITY'],\n",
       "      dtype='object')"
      ]
     },
     "execution_count": 22,
     "metadata": {},
     "output_type": "execute_result"
    }
   ],
   "source": [
    "data2.columns"
   ]
  },
  {
   "cell_type": "code",
   "execution_count": 23,
   "id": "6db2644f-dbaa-43e1-a711-6bc610bd8e7b",
   "metadata": {},
   "outputs": [
    {
     "data": {
      "text/html": [
       "<div>\n",
       "<style scoped>\n",
       "    .dataframe tbody tr th:only-of-type {\n",
       "        vertical-align: middle;\n",
       "    }\n",
       "\n",
       "    .dataframe tbody tr th {\n",
       "        vertical-align: top;\n",
       "    }\n",
       "\n",
       "    .dataframe thead th {\n",
       "        text-align: right;\n",
       "    }\n",
       "</style>\n",
       "<table border=\"1\" class=\"dataframe\">\n",
       "  <thead>\n",
       "    <tr style=\"text-align: right;\">\n",
       "      <th></th>\n",
       "      <th>RECORD_NBR</th>\n",
       "      <th>PAY_YEAR</th>\n",
       "      <th>DEPARTMENT_NO</th>\n",
       "      <th>DEPARTMENT_TITLE</th>\n",
       "      <th>JOB_CLASS_PGRADE</th>\n",
       "      <th>JOB_TITLE</th>\n",
       "      <th>EMPLOYMENT_TYPE</th>\n",
       "      <th>JOB_STATUS</th>\n",
       "      <th>MOU</th>\n",
       "      <th>MOU_TITLE</th>\n",
       "      <th>REGULAR_PAY</th>\n",
       "      <th>OVERTIME_PAY</th>\n",
       "      <th>ALL_OTHER_PAY</th>\n",
       "      <th>TOTAL_PAY</th>\n",
       "      <th>CITY_RETIREMENT_CONTRIBUTIONS</th>\n",
       "      <th>BENEFIT_PAY</th>\n",
       "      <th>GENDER</th>\n",
       "      <th>ETHNICITY</th>\n",
       "    </tr>\n",
       "  </thead>\n",
       "  <tbody>\n",
       "    <tr>\n",
       "      <th>0</th>\n",
       "      <td>303030303632</td>\n",
       "      <td>2017</td>\n",
       "      <td>98</td>\n",
       "      <td>WATER AND POWER</td>\n",
       "      <td>3156-5</td>\n",
       "      <td>CUSTODIAN</td>\n",
       "      <td>FULL_TIME</td>\n",
       "      <td>ACTIVE</td>\n",
       "      <td>8</td>\n",
       "      <td>OPERATING MAINTENANCE AND SERVICE UNIT</td>\n",
       "      <td>55725.24</td>\n",
       "      <td>4785.05</td>\n",
       "      <td>2021.84</td>\n",
       "      <td>62532.13</td>\n",
       "      <td>3678.0</td>\n",
       "      <td>23508.9</td>\n",
       "      <td>FEMALE</td>\n",
       "      <td>HISPANIC</td>\n",
       "    </tr>\n",
       "    <tr>\n",
       "      <th>1</th>\n",
       "      <td>3030303036</td>\n",
       "      <td>2017</td>\n",
       "      <td>98</td>\n",
       "      <td>WATER AND POWER</td>\n",
       "      <td>9105-5</td>\n",
       "      <td>UTILITY ADMINISTRATOR</td>\n",
       "      <td>FULL_TIME</td>\n",
       "      <td>ACTIVE</td>\n",
       "      <td>M</td>\n",
       "      <td>MANAGEMENT EMPLOYEES UNIT</td>\n",
       "      <td>139174.88</td>\n",
       "      <td>16340.50</td>\n",
       "      <td>6170.49</td>\n",
       "      <td>161685.87</td>\n",
       "      <td>9186.0</td>\n",
       "      <td>23508.9</td>\n",
       "      <td>FEMALE</td>\n",
       "      <td>ASIAN AMERICAN</td>\n",
       "    </tr>\n",
       "    <tr>\n",
       "      <th>2</th>\n",
       "      <td>303030313232</td>\n",
       "      <td>2017</td>\n",
       "      <td>98</td>\n",
       "      <td>WATER AND POWER</td>\n",
       "      <td>9602-4</td>\n",
       "      <td>WATER SERVICES MANAGER</td>\n",
       "      <td>FULL_TIME</td>\n",
       "      <td>ACTIVE</td>\n",
       "      <td>M</td>\n",
       "      <td>MANAGEMENT EMPLOYEES UNIT</td>\n",
       "      <td>245879.12</td>\n",
       "      <td>0.00</td>\n",
       "      <td>12504.30</td>\n",
       "      <td>258383.42</td>\n",
       "      <td>16228.0</td>\n",
       "      <td>23508.9</td>\n",
       "      <td>MALE</td>\n",
       "      <td>BLACK</td>\n",
       "    </tr>\n",
       "    <tr>\n",
       "      <th>3</th>\n",
       "      <td>303030313632</td>\n",
       "      <td>2017</td>\n",
       "      <td>98</td>\n",
       "      <td>WATER AND POWER</td>\n",
       "      <td>5885-5</td>\n",
       "      <td>WTR TRTMT OPR</td>\n",
       "      <td>FULL_TIME</td>\n",
       "      <td>ACTIVE</td>\n",
       "      <td>6</td>\n",
       "      <td>STEAM PLANT AND WATER SUPPLY UNIT</td>\n",
       "      <td>101494.34</td>\n",
       "      <td>7824.99</td>\n",
       "      <td>12630.52</td>\n",
       "      <td>121949.85</td>\n",
       "      <td>6699.0</td>\n",
       "      <td>23508.9</td>\n",
       "      <td>MALE</td>\n",
       "      <td>ASIAN AMERICAN</td>\n",
       "    </tr>\n",
       "    <tr>\n",
       "      <th>4</th>\n",
       "      <td>303030323632</td>\n",
       "      <td>2017</td>\n",
       "      <td>98</td>\n",
       "      <td>WATER AND POWER</td>\n",
       "      <td>3841-5</td>\n",
       "      <td>ELTL MCHC</td>\n",
       "      <td>FULL_TIME</td>\n",
       "      <td>ACTIVE</td>\n",
       "      <td>8</td>\n",
       "      <td>OPERATING MAINTENANCE AND SERVICE UNIT</td>\n",
       "      <td>101345.12</td>\n",
       "      <td>22284.37</td>\n",
       "      <td>1566.75</td>\n",
       "      <td>125196.24</td>\n",
       "      <td>6689.0</td>\n",
       "      <td>23508.9</td>\n",
       "      <td>MALE</td>\n",
       "      <td>HISPANIC</td>\n",
       "    </tr>\n",
       "  </tbody>\n",
       "</table>\n",
       "</div>"
      ],
      "text/plain": [
       "     RECORD_NBR  PAY_YEAR  DEPARTMENT_NO DEPARTMENT_TITLE JOB_CLASS_PGRADE  \\\n",
       "0  303030303632      2017             98  WATER AND POWER           3156-5   \n",
       "1    3030303036      2017             98  WATER AND POWER           9105-5   \n",
       "2  303030313232      2017             98  WATER AND POWER           9602-4   \n",
       "3  303030313632      2017             98  WATER AND POWER           5885-5   \n",
       "4  303030323632      2017             98  WATER AND POWER           3841-5   \n",
       "\n",
       "                JOB_TITLE EMPLOYMENT_TYPE JOB_STATUS MOU  \\\n",
       "0               CUSTODIAN       FULL_TIME     ACTIVE   8   \n",
       "1   UTILITY ADMINISTRATOR       FULL_TIME     ACTIVE   M   \n",
       "2  WATER SERVICES MANAGER       FULL_TIME     ACTIVE   M   \n",
       "3           WTR TRTMT OPR       FULL_TIME     ACTIVE   6   \n",
       "4               ELTL MCHC       FULL_TIME     ACTIVE   8   \n",
       "\n",
       "                                MOU_TITLE  REGULAR_PAY  OVERTIME_PAY  \\\n",
       "0  OPERATING MAINTENANCE AND SERVICE UNIT     55725.24       4785.05   \n",
       "1               MANAGEMENT EMPLOYEES UNIT    139174.88      16340.50   \n",
       "2               MANAGEMENT EMPLOYEES UNIT    245879.12          0.00   \n",
       "3       STEAM PLANT AND WATER SUPPLY UNIT    101494.34       7824.99   \n",
       "4  OPERATING MAINTENANCE AND SERVICE UNIT    101345.12      22284.37   \n",
       "\n",
       "   ALL_OTHER_PAY  TOTAL_PAY  CITY_RETIREMENT_CONTRIBUTIONS  BENEFIT_PAY  \\\n",
       "0        2021.84   62532.13                         3678.0      23508.9   \n",
       "1        6170.49  161685.87                         9186.0      23508.9   \n",
       "2       12504.30  258383.42                        16228.0      23508.9   \n",
       "3       12630.52  121949.85                         6699.0      23508.9   \n",
       "4        1566.75  125196.24                         6689.0      23508.9   \n",
       "\n",
       "   GENDER       ETHNICITY  \n",
       "0  FEMALE        HISPANIC  \n",
       "1  FEMALE  ASIAN AMERICAN  \n",
       "2    MALE           BLACK  \n",
       "3    MALE  ASIAN AMERICAN  \n",
       "4    MALE        HISPANIC  "
      ]
     },
     "execution_count": 23,
     "metadata": {},
     "output_type": "execute_result"
    }
   ],
   "source": [
    "data2.head()"
   ]
  },
  {
   "cell_type": "code",
   "execution_count": 24,
   "id": "850e9717-5fc6-4de5-8763-dc2ee4aa1402",
   "metadata": {},
   "outputs": [
    {
     "name": "stdout",
     "output_type": "stream",
     "text": [
      "RECORD_NBR                          0\n",
      "PAY_YEAR                            0\n",
      "DEPARTMENT_NO                       0\n",
      "DEPARTMENT_TITLE                    0\n",
      "JOB_CLASS_PGRADE                  542\n",
      "JOB_TITLE                         542\n",
      "EMPLOYMENT_TYPE                     0\n",
      "JOB_STATUS                          0\n",
      "MOU                               684\n",
      "MOU_TITLE                         749\n",
      "REGULAR_PAY                         0\n",
      "OVERTIME_PAY                      434\n",
      "ALL_OTHER_PAY                     434\n",
      "TOTAL_PAY                           0\n",
      "CITY_RETIREMENT_CONTRIBUTIONS       0\n",
      "BENEFIT_PAY                         0\n",
      "GENDER                           3861\n",
      "ETHNICITY                        4212\n",
      "dtype: int64\n"
     ]
    }
   ],
   "source": [
    "missing_values=data2.isnull().sum()\n",
    "print(missing_values)"
   ]
  },
  {
   "cell_type": "code",
   "execution_count": 26,
   "id": "99ffa318-af40-4b69-87c5-d25ec5c3d217",
   "metadata": {},
   "outputs": [
    {
     "name": "stdout",
     "output_type": "stream",
     "text": [
      "          RECORD_NBR  PAY_YEAR  DEPARTMENT_NO     DEPARTMENT_TITLE  \\\n",
      "0       303030303632      2017             98      WATER AND POWER   \n",
      "1         3030303036      2017             98      WATER AND POWER   \n",
      "2       303030313232      2017             98      WATER AND POWER   \n",
      "3       303030313632      2017             98      WATER AND POWER   \n",
      "4       303030323632      2017             98      WATER AND POWER   \n",
      "...              ...       ...            ...                  ...   \n",
      "685456  393936353833      2022             43  LOS ANGELES HOUSING   \n",
      "685457    3939393534      2022             42               HARBOR   \n",
      "685458    3939393535      2022              4             AIRPORTS   \n",
      "685459  393939353733      2022             70               POLICE   \n",
      "685460  393939353933      2022             70               POLICE   \n",
      "\n",
      "       JOB_CLASS_PGRADE               JOB_TITLE EMPLOYMENT_TYPE JOB_STATUS  \\\n",
      "0                3156-5               CUSTODIAN       FULL_TIME     ACTIVE   \n",
      "1                9105-5   UTILITY ADMINISTRATOR       FULL_TIME     ACTIVE   \n",
      "2                9602-4  WATER SERVICES MANAGER       FULL_TIME     ACTIVE   \n",
      "3                5885-5           WTR TRTMT OPR       FULL_TIME     ACTIVE   \n",
      "4                3841-5               ELTL MCHC       FULL_TIME     ACTIVE   \n",
      "...                 ...                     ...             ...        ...   \n",
      "685456           1223-0        ACCOUNTING CLERK       PART_TIME     ACTIVE   \n",
      "685457           9485-0   SENIOR CIVIL ENGINEER       FULL_TIME     ACTIVE   \n",
      "685458           3181-0        SECURITY OFFICER       FULL_TIME     ACTIVE   \n",
      "685459           2214-2       POLICE OFFICER II       FULL_TIME     ACTIVE   \n",
      "685460           3711-5      EQUIPMENT MECHANIC       FULL_TIME     ACTIVE   \n",
      "\n",
      "         MOU                                          MOU_TITLE  REGULAR_PAY  \\\n",
      "0          8             OPERATING MAINTENANCE AND SERVICE UNIT     55725.24   \n",
      "1          M                          MANAGEMENT EMPLOYEES UNIT    139174.88   \n",
      "2          M                          MANAGEMENT EMPLOYEES UNIT    245879.12   \n",
      "3          6                  STEAM PLANT AND WATER SUPPLY UNIT    101494.34   \n",
      "4          8             OPERATING MAINTENANCE AND SERVICE UNIT    101345.12   \n",
      "...      ...                                                ...          ...   \n",
      "685456   3.0                                           CLERICAL     12205.87   \n",
      "685457  17.0  SUPERVISORY PROFESSIONAL ENGINEERING AND SCIEN...     69062.40   \n",
      "685458  18.0                                  SAFETY / SECURITY     32927.90   \n",
      "685459  24.0              POLICE OFFICERS, LIEUTENANT AND BELOW     39156.66   \n",
      "685460  14.0                                  SERVICE AND CRAFT     40299.31   \n",
      "\n",
      "        OVERTIME_PAY  ALL_OTHER_PAY  TOTAL_PAY  CITY_RETIREMENT_CONTRIBUTIONS  \\\n",
      "0            4785.05        2021.84   62532.13                        3678.00   \n",
      "1           16340.50        6170.49  161685.87                        9186.00   \n",
      "2               0.00       12504.30  258383.42                       16228.00   \n",
      "3            7824.99       12630.52  121949.85                        6699.00   \n",
      "4           22284.37        1566.75  125196.24                        6689.00   \n",
      "...              ...            ...        ...                            ...   \n",
      "685456          0.00         500.00   12705.87                           0.00   \n",
      "685457          0.00        9193.85   78256.25                       20483.91   \n",
      "685458       4855.63        2533.37   40316.90                        9766.42   \n",
      "685459       4978.06        3480.00   47614.72                       17918.27   \n",
      "685460       5438.40        3830.20   49567.91                       11952.78   \n",
      "\n",
      "        BENEFIT_PAY  GENDER       ETHNICITY  \n",
      "0          23508.90  FEMALE        HISPANIC  \n",
      "1          23508.90  FEMALE  ASIAN AMERICAN  \n",
      "2          23508.90    MALE           BLACK  \n",
      "3          23508.90    MALE  ASIAN AMERICAN  \n",
      "4          23508.90    MALE        HISPANIC  \n",
      "...             ...     ...             ...  \n",
      "685456         0.00  FEMALE           ASIAN  \n",
      "685457     10317.36    MALE        HISPANIC  \n",
      "685458      4166.52    MALE       CAUCASIAN  \n",
      "685459      7793.89    MALE           ASIAN  \n",
      "685460      8000.64    MALE        HISPANIC  \n",
      "\n",
      "[680433 rows x 18 columns]\n"
     ]
    }
   ],
   "source": [
    "# deleting rows with null values because we don't now the data to be filled and we cannot just leave it empty\n",
    "rows_to_drop=data2.dropna()\n",
    "print(rows_to_drop)"
   ]
  },
  {
   "cell_type": "code",
   "execution_count": 19,
   "id": "0ff7df1d-fe9a-4f8c-9a88-5cae75c45076",
   "metadata": {},
   "outputs": [],
   "source": [
    "from prophet import Prophet\n",
    "from prophet.plot import plot_plotly"
   ]
  },
  {
   "cell_type": "code",
   "execution_count": 20,
   "id": "f74980fd-39f1-4b83-8765-95591883c4e3",
   "metadata": {},
   "outputs": [
    {
     "ename": "ValueError",
     "evalue": "Length mismatch: Expected axis has 18 elements, new values have 2 elements",
     "output_type": "error",
     "traceback": [
      "\u001b[1;31m---------------------------------------------------------------------------\u001b[0m",
      "\u001b[1;31mValueError\u001b[0m                                Traceback (most recent call last)",
      "Cell \u001b[1;32mIn[20], line 1\u001b[0m\n\u001b[1;32m----> 1\u001b[0m data2\u001b[38;5;241m.\u001b[39mcolumns\u001b[38;5;241m=\u001b[39m[\u001b[38;5;124m'\u001b[39m\u001b[38;5;124mds\u001b[39m\u001b[38;5;124m'\u001b[39m,\u001b[38;5;124m'\u001b[39m\u001b[38;5;124my\u001b[39m\u001b[38;5;124m'\u001b[39m]\n\u001b[0;32m      2\u001b[0m model\u001b[38;5;241m=\u001b[39mProphet()\n\u001b[0;32m      3\u001b[0m model\u001b[38;5;241m.\u001b[39mfit(data)\n",
      "File \u001b[1;32m~\\anaconda3\\Lib\\site-packages\\pandas\\core\\generic.py:6313\u001b[0m, in \u001b[0;36mNDFrame.__setattr__\u001b[1;34m(self, name, value)\u001b[0m\n\u001b[0;32m   6311\u001b[0m \u001b[38;5;28;01mtry\u001b[39;00m:\n\u001b[0;32m   6312\u001b[0m     \u001b[38;5;28mobject\u001b[39m\u001b[38;5;241m.\u001b[39m\u001b[38;5;21m__getattribute__\u001b[39m(\u001b[38;5;28mself\u001b[39m, name)\n\u001b[1;32m-> 6313\u001b[0m     \u001b[38;5;28;01mreturn\u001b[39;00m \u001b[38;5;28mobject\u001b[39m\u001b[38;5;241m.\u001b[39m\u001b[38;5;21m__setattr__\u001b[39m(\u001b[38;5;28mself\u001b[39m, name, value)\n\u001b[0;32m   6314\u001b[0m \u001b[38;5;28;01mexcept\u001b[39;00m \u001b[38;5;167;01mAttributeError\u001b[39;00m:\n\u001b[0;32m   6315\u001b[0m     \u001b[38;5;28;01mpass\u001b[39;00m\n",
      "File \u001b[1;32mproperties.pyx:69\u001b[0m, in \u001b[0;36mpandas._libs.properties.AxisProperty.__set__\u001b[1;34m()\u001b[0m\n",
      "File \u001b[1;32m~\\anaconda3\\Lib\\site-packages\\pandas\\core\\generic.py:814\u001b[0m, in \u001b[0;36mNDFrame._set_axis\u001b[1;34m(self, axis, labels)\u001b[0m\n\u001b[0;32m    809\u001b[0m \u001b[38;5;250m\u001b[39m\u001b[38;5;124;03m\"\"\"\u001b[39;00m\n\u001b[0;32m    810\u001b[0m \u001b[38;5;124;03mThis is called from the cython code when we set the `index` attribute\u001b[39;00m\n\u001b[0;32m    811\u001b[0m \u001b[38;5;124;03mdirectly, e.g. `series.index = [1, 2, 3]`.\u001b[39;00m\n\u001b[0;32m    812\u001b[0m \u001b[38;5;124;03m\"\"\"\u001b[39;00m\n\u001b[0;32m    813\u001b[0m labels \u001b[38;5;241m=\u001b[39m ensure_index(labels)\n\u001b[1;32m--> 814\u001b[0m \u001b[38;5;28mself\u001b[39m\u001b[38;5;241m.\u001b[39m_mgr\u001b[38;5;241m.\u001b[39mset_axis(axis, labels)\n\u001b[0;32m    815\u001b[0m \u001b[38;5;28mself\u001b[39m\u001b[38;5;241m.\u001b[39m_clear_item_cache()\n",
      "File \u001b[1;32m~\\anaconda3\\Lib\\site-packages\\pandas\\core\\internals\\managers.py:238\u001b[0m, in \u001b[0;36mBaseBlockManager.set_axis\u001b[1;34m(self, axis, new_labels)\u001b[0m\n\u001b[0;32m    236\u001b[0m \u001b[38;5;28;01mdef\u001b[39;00m \u001b[38;5;21mset_axis\u001b[39m(\u001b[38;5;28mself\u001b[39m, axis: AxisInt, new_labels: Index) \u001b[38;5;241m-\u001b[39m\u001b[38;5;241m>\u001b[39m \u001b[38;5;28;01mNone\u001b[39;00m:\n\u001b[0;32m    237\u001b[0m     \u001b[38;5;66;03m# Caller is responsible for ensuring we have an Index object.\u001b[39;00m\n\u001b[1;32m--> 238\u001b[0m     \u001b[38;5;28mself\u001b[39m\u001b[38;5;241m.\u001b[39m_validate_set_axis(axis, new_labels)\n\u001b[0;32m    239\u001b[0m     \u001b[38;5;28mself\u001b[39m\u001b[38;5;241m.\u001b[39maxes[axis] \u001b[38;5;241m=\u001b[39m new_labels\n",
      "File \u001b[1;32m~\\anaconda3\\Lib\\site-packages\\pandas\\core\\internals\\base.py:98\u001b[0m, in \u001b[0;36mDataManager._validate_set_axis\u001b[1;34m(self, axis, new_labels)\u001b[0m\n\u001b[0;32m     95\u001b[0m     \u001b[38;5;28;01mpass\u001b[39;00m\n\u001b[0;32m     97\u001b[0m \u001b[38;5;28;01melif\u001b[39;00m new_len \u001b[38;5;241m!=\u001b[39m old_len:\n\u001b[1;32m---> 98\u001b[0m     \u001b[38;5;28;01mraise\u001b[39;00m \u001b[38;5;167;01mValueError\u001b[39;00m(\n\u001b[0;32m     99\u001b[0m         \u001b[38;5;124mf\u001b[39m\u001b[38;5;124m\"\u001b[39m\u001b[38;5;124mLength mismatch: Expected axis has \u001b[39m\u001b[38;5;132;01m{\u001b[39;00mold_len\u001b[38;5;132;01m}\u001b[39;00m\u001b[38;5;124m elements, new \u001b[39m\u001b[38;5;124m\"\u001b[39m\n\u001b[0;32m    100\u001b[0m         \u001b[38;5;124mf\u001b[39m\u001b[38;5;124m\"\u001b[39m\u001b[38;5;124mvalues have \u001b[39m\u001b[38;5;132;01m{\u001b[39;00mnew_len\u001b[38;5;132;01m}\u001b[39;00m\u001b[38;5;124m elements\u001b[39m\u001b[38;5;124m\"\u001b[39m\n\u001b[0;32m    101\u001b[0m     )\n",
      "\u001b[1;31mValueError\u001b[0m: Length mismatch: Expected axis has 18 elements, new values have 2 elements"
     ]
    }
   ],
   "source": [
    "data2.columns=['ds','y']\n",
    "model=Prophet()\n",
    "model.fit(data)"
   ]
  },
  {
   "cell_type": "markdown",
   "id": "43e2de43-cce6-4854-97ad-13f30fe48f37",
   "metadata": {},
   "source": [
    "I tried using ARIMA and Facebook's Prophet library for time series forecasting on the found dataset. However, upon examining the data, I discovered that it is not continuous, which poses significant challenges for using Prophet or ARIMA.\n",
    "\n",
    "This dataset contains employees and their information from their Department and employee type for a single year which is 2017. This inconsistency makes it difficult to apply Prophet's default settings, which assume a continuous and regularly spaced time series.\n",
    "\n",
    "Prophet and ARIMA requires a continuous and evenly spaced time series to accurately model and forecast trends, seasonality, and anomalies. "
   ]
  },
  {
   "cell_type": "markdown",
   "id": "4e0652fa-8214-4484-b2c5-030e64e95f9f",
   "metadata": {},
   "source": [
    "SENTIMENT ANALYSIS"
   ]
  },
  {
   "cell_type": "markdown",
   "id": "a4218958-1033-4d2d-ba91-c31bc5c402e5",
   "metadata": {},
   "source": [
    "After data has been collected, I will start to preprocess the data. From cleaning it to tokenization. A sentiment Analysis method I would choose is Machine Learning approach then train a classifier using features derived from the text.\n",
    "\n",
    "I will continue to train the model and split the data into training and test sets. There will be a sentiment scoring after that that will categorize from positive, negative or neutral. I will then analyze the results to determine the accuracy of the categorization. Continue to summarize the findings using visual aids like pie charts of bar graphs. I can then continuously monitor the feedback to refine the model periodically."
   ]
  },
  {
   "cell_type": "code",
   "execution_count": null,
   "id": "975056c8-f1c9-40b2-88cb-20cbd90be30b",
   "metadata": {},
   "outputs": [],
   "source": []
  }
 ],
 "metadata": {
  "kernelspec": {
   "display_name": "Python 3 (ipykernel)",
   "language": "python",
   "name": "python3"
  },
  "language_info": {
   "codemirror_mode": {
    "name": "ipython",
    "version": 3
   },
   "file_extension": ".py",
   "mimetype": "text/x-python",
   "name": "python",
   "nbconvert_exporter": "python",
   "pygments_lexer": "ipython3",
   "version": "3.12.4"
  }
 },
 "nbformat": 4,
 "nbformat_minor": 5
}
